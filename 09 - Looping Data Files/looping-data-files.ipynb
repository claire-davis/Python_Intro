{
 "cells": [
  {
   "cell_type": "markdown",
   "metadata": {},
   "source": [
    "# Looping Over Data Files\n",
    "\n",
    "---\n",
    "\n",
    "[Watch a walk-through of this lesson on YouTube](https://youtu.be/zcg28Qz0ToY)\n",
    "\n"
   ]
  },
  {
   "cell_type": "markdown",
   "metadata": {
    "jupyter": {
     "outputs_hidden": false
    }
   },
   "source": [
    "## Questions:\n",
    "- How can I efficiently read in many data sets from different files?\n",
    "- How can I combine data from different files into one pandas DataFrame?\n",
    "\n",
    "## Learning Objectives:\n",
    "- Be able to write \"globbing\" expressions that match sets of files\n",
    "- Use `glob` to create lists of files\n",
    "- Write `for` loops to perform operations on many files \n",
    "- Write list comprehensions to perform operations on many files\n",
    "- combine pandas DataFrames\n",
    "\n",
    "---"
   ]
  },
  {
   "cell_type": "markdown",
   "metadata": {
    "jupyter": {
     "outputs_hidden": false
    }
   },
   "source": [
    "## Use a `for` loop to process files given a list of their names\n",
    "\n",
    "We can use a `for` loop to read in a set of data files, and do a thing for each one. In this case, we'll print the minimum value in each file:\n",
    "\n",
    "~~~python\n",
    "import pandas as pd\n",
    "\n",
    "data_files = ['data/gapminder_gdp_africa.csv', 'data/gapminder_gdp_asia.csv']\n",
    "\n",
    "for filename in data_files:\n",
    "    data = pd.read_csv(filename, index_col='country')\n",
    "    print(filename, data.min())\n",
    "~~~"
   ]
  },
  {
   "cell_type": "code",
   "execution_count": 5,
   "metadata": {},
   "outputs": [
    {
     "name": "stdout",
     "output_type": "stream",
     "text": [
      "data/gapminder_gdp_africa.csv gdpPercap_1952    298.846212\n",
      "gdpPercap_1957    335.997115\n",
      "gdpPercap_1962    355.203227\n",
      "gdpPercap_1967    412.977514\n",
      "gdpPercap_1972    464.099504\n",
      "gdpPercap_1977    502.319733\n",
      "gdpPercap_1982    462.211415\n",
      "gdpPercap_1987    389.876185\n",
      "gdpPercap_1992    410.896824\n",
      "gdpPercap_1997    312.188423\n",
      "gdpPercap_2002    241.165876\n",
      "gdpPercap_2007    277.551859\n",
      "dtype: float64\n",
      "data/gapminder_gdp_asia.csv gdpPercap_1952    331.0\n",
      "gdpPercap_1957    350.0\n",
      "gdpPercap_1962    388.0\n",
      "gdpPercap_1967    349.0\n",
      "gdpPercap_1972    357.0\n",
      "gdpPercap_1977    371.0\n",
      "gdpPercap_1982    424.0\n",
      "gdpPercap_1987    385.0\n",
      "gdpPercap_1992    347.0\n",
      "gdpPercap_1997    415.0\n",
      "gdpPercap_2002    611.0\n",
      "gdpPercap_2007    944.0\n",
      "dtype: float64\n"
     ]
    }
   ],
   "source": [
    "import pandas as pd\n",
    "\n",
    "data_files = ['data/gapminder_gdp_africa.csv', 'data/gapminder_gdp_asia.csv']\n",
    "\n",
    "for filename in data_files:\n",
    "    data = pd.read_csv(filename, index_col='country')\n",
    "    print(filename, data.min())"
   ]
  },
  {
   "cell_type": "markdown",
   "metadata": {
    "jupyter": {
     "outputs_hidden": false
    }
   },
   "source": [
    "## Use [`glob.glob`](https://docs.python.org/3/library/glob.html#glob.glob) to find sets of files whose names match a pattern.\n",
    "\n",
    "*   In Unix, the term ***globbing*** means matching a set of files with a pattern.\n",
    "*   The most common patterns are:\n",
    "    *   `*` meaning match zero or more characters\n",
    "    *   `?` meaning match exactly one character\n",
    "*   Python's standard library contains the [`glob`](https://docs.python.org/3/library/glob.html) module to provide pattern matching functionality\n",
    "*   The [`glob`](https://docs.python.org/3/library/glob.html) module contains a function also called `glob` to match file patterns\n",
    "*   E.g., `glob.glob('*.txt')` matches all files in the current directory \n",
    "    whose names end with `.txt`.\n",
    "*   Result is a list of strings.\n",
    "\n",
    "~~~python\n",
    "import glob\n",
    "print('all csv files in data directory:', glob.glob('data/*.csv'))\n",
    "\n",
    "~~~"
   ]
  },
  {
   "cell_type": "code",
   "execution_count": 6,
   "metadata": {},
   "outputs": [
    {
     "name": "stdout",
     "output_type": "stream",
     "text": [
      "all csv files in data directory: ['data/gapminder_gdp_asia.csv', 'data/gapminder_life_expectancy_years.csv', 'data/s3.csv', 'data/gapminder_gdp_americas.csv', 'data/gapminder_gdp_oceania.csv', 'data/s1.csv', 'data/s2.csv', 'data/gapminder_all.csv', 'data/gapminder_gdp_europe.csv', 'data/gapminder_gdp_africa.csv']\n"
     ]
    }
   ],
   "source": [
    "import glob\n",
    "print('all csv files in data directory:', glob.glob('data/*.csv'))"
   ]
  },
  {
   "cell_type": "markdown",
   "metadata": {
    "jupyter": {
     "outputs_hidden": false
    },
    "tags": []
   },
   "source": [
    "## Use `glob` and `for` to process batches of files.\n",
    "\n",
    "It's good practice to name your files systematically. As you've learned, Python is very precise about things like capitalization, so if your file names are inconsistent (e.g., `Gapminder_Europe.csv`, `gapminder_americas.csv`, `gapminder_Oceania.csv`), then it is harder to write code with `glob` that works correctly. \n",
    "\n",
    "For the Gapminder data, fortunately the file names are quite systematic and consistent (as are the names of the columns inside each file), so we can use the following to read in each one and print the minimum GDP from 1952:\n",
    "\n",
    "~~~python\n",
    "for filename in glob.glob('data/gapminder_gdp*.csv'):\n",
    "    data = pd.read_csv(filename)\n",
    "    print(filename, data['gdpPercap_1952'].min())\n",
    "~~~"
   ]
  },
  {
   "cell_type": "code",
   "execution_count": 9,
   "metadata": {},
   "outputs": [
    {
     "name": "stdout",
     "output_type": "stream",
     "text": [
      "data/gapminder_gdp_asia.csv 331.0\n",
      "data/gapminder_gdp_americas.csv 1397.717137\n",
      "data/gapminder_gdp_oceania.csv 10039.59564\n",
      "data/gapminder_gdp_europe.csv 973.5331948\n",
      "data/gapminder_gdp_africa.csv 298.8462121\n"
     ]
    }
   ],
   "source": [
    "for filename in glob.glob('data/gapminder_gdp*.csv'):\n",
    "    data = pd.read_csv(filename)\n",
    "    print(filename, data['gdpPercap_1952'].min())"
   ]
  },
  {
   "cell_type": "markdown",
   "metadata": {},
   "source": [
    "## Appending Files to a Single DataFrame\n",
    "\n",
    "Often we don't just want to open a file and extract a small bit of data (such as the minimum value in examples above). Rather, we might want to open a set of related data files and combine them into one big DataFrame. For example, in psychology and neuroscience most experiments involve multiple participants. For each participant, when we run the experiment we get a data file. To analyze the data across participants, we would want to read in all participants' data files and combined them into one DataFrame.\n",
    "\n",
    "pandas has a few methods that allow us to combine DataFrames, including:\n",
    "- [`.concat()`](https://pandas.pydata.org/docs/reference/api/pandas.concat.html)\n",
    "- [`.merge()`](https://pandas.pydata.org/docs/reference/api/pandas.merge.html?highlight=merge#)\n",
    "- [`.append()`](https://pandas.pydata.org/docs/reference/api/pandas.DataFrame.append.html?highlight=append#pandas.DataFrame.append)\n",
    "- [`.join()`](https://pandas.pydata.org/docs/reference/api/pandas.DataFrame.join.html#pandas.DataFrame.join)\n",
    "\n",
    "We will focus here on the first one. `concat` stands for \"concatenate\" which essentially means combine files by \"stacking\" them. That is, start with one DataFrame, and add a new data frame to the bottom of it, creating additional rows. In what we'll do here, we assume that all of the data files we're reading have the same columns. For example, in the Gapminder GDP data sets, each file has a column for `country` plus a series of columns for GDP in different years — and the same years are in the columns of all the data sets. "
   ]
  },
  {
   "cell_type": "markdown",
   "metadata": {
    "tags": []
   },
   "source": [
    "### Reading in data from multiple experimental participants\n",
    "\n",
    "Let's say we have data from an experiment in which we ran three human participants (sometimes called \"people\") on different days. For each participant, we have a data file. The columns in all the files are the same, because the files were generated by a computer program that ran the experiment.\n",
    "\n",
    "We give the participants anonymized ID codes to protect their privacy, and allow for a simple, systematic naming convention for the files. The first participant's data is saved in a file called `s1.csv`, the second's in `s2.csv`, etc..\n",
    "\n",
    "We can glob the data folder in which the files are stored, to find all the CSV files whose names start with an `s` followed by a single character, followed by `.csv`. We'll save the result to a list that we can loop through later:\n",
    "\n",
    "~~~python\n",
    "filenames = glob.glob('data/s?.csv')\n",
    "~~~"
   ]
  },
  {
   "cell_type": "code",
   "execution_count": 12,
   "metadata": {},
   "outputs": [
    {
     "name": "stdout",
     "output_type": "stream",
     "text": [
      "['data/s3.csv', 'data/s1.csv', 'data/s2.csv']\n"
     ]
    }
   ],
   "source": [
    "filenames = glob.glob('data/s?.csv')\n",
    "print(filenames)"
   ]
  },
  {
   "cell_type": "markdown",
   "metadata": {},
   "source": [
    "Next, we create an empty list that we will store the DataFrames from each participant in. It will end up being a list of DataFrames (remember, lists can contain just about any other Python data type), and once we have read in all the data, we will combine them into one DataFrame. This is a trick that's important to use in pandas. The reason has to do with how pandas combines DataFrames and stores them in memory. In simple terms, each time we concatenate DataFrames, pandas does a lot of internal checking to make sure there are no errors. Doing this checking once, when combining many DataFrames, is far more efficient (and thus faster) than doing it many times. Likewise, when a DataFrame is created, an appropriate amount of memory space is allocated for it on the computer. Each time we append additional data, we have to create a new, bigger block of memory. Allocating new blocks of memory, many times, takes more time than just doing it once.\n",
    "\n",
    "~~~python\n",
    "df_list = []\n",
    "~~~"
   ]
  },
  {
   "cell_type": "code",
   "execution_count": 14,
   "metadata": {},
   "outputs": [],
   "source": [
    "df_list = []"
   ]
  },
  {
   "cell_type": "markdown",
   "metadata": {},
   "source": [
    "Finally, use a `for` loop to read the files in. This will cycle through the items in the `filenames` list; each time through the loop, `filename` has the value of the current file name, and we use the list `append()` method to add the data from that file to `df_list`:\n",
    "\n",
    "~~~python\n",
    "for f in filenames:\n",
    "    df_list.append(pd.read_csv(f))\n",
    "~~~"
   ]
  },
  {
   "cell_type": "code",
   "execution_count": 15,
   "metadata": {},
   "outputs": [],
   "source": [
    "for f in filenames:\n",
    "    df_list.append(pd.read_csv(f))"
   ]
  },
  {
   "cell_type": "markdown",
   "metadata": {},
   "source": [
    "When we view the contents of the list, we see each data set, with its two columns (with headers saying what they are), and commas separating the list entries, as is typical of a list. \n",
    "\n",
    "~~~python\n",
    "df_list\n",
    "~~~"
   ]
  },
  {
   "cell_type": "code",
   "execution_count": 16,
   "metadata": {},
   "outputs": [
    {
     "data": {
      "text/plain": [
       "[  participantID  trial        RT\n",
       " 0            s3      1  0.322099\n",
       " 1            s3      2  0.396106\n",
       " 2            s3      3  0.384297\n",
       " 3            s3      4  0.364524\n",
       " 4            s3      5  0.454075\n",
       " 5            s3      6  0.494156\n",
       " 6            s3      7  0.492787\n",
       " 7            s3      8  0.506836\n",
       " 8            s3      9  0.340722\n",
       " 9            s3     10  0.704491,\n",
       "   participantID  trial        RT\n",
       " 0            s1      1  0.508971\n",
       " 1            s1      2  0.389858\n",
       " 2            s1      3  0.404175\n",
       " 3            s1      4  0.269520\n",
       " 4            s1      5  0.437765\n",
       " 5            s1      6  0.368142\n",
       " 6            s1      7  0.400544\n",
       " 7            s1      8  0.335198\n",
       " 8            s1      9  0.341722\n",
       " 9            s1     10  0.439583,\n",
       "   participantID  trial        RT\n",
       " 0            s2      1  0.433094\n",
       " 1            s2      2  0.392526\n",
       " 2            s2      3  0.396831\n",
       " 3            s2      4  0.417988\n",
       " 4            s2      5  0.371810\n",
       " 5            s2      6  0.659228\n",
       " 6            s2      7  0.411051\n",
       " 7            s2      8  0.409580\n",
       " 8            s2      9  0.486828\n",
       " 9            s2     10  0.468912]"
      ]
     },
     "execution_count": 16,
     "metadata": {},
     "output_type": "execute_result"
    }
   ],
   "source": [
    "df_list"
   ]
  },
  {
   "cell_type": "markdown",
   "metadata": {
    "tags": []
   },
   "source": [
    "## Reading multiple files using list comprehension\n",
    "\n",
    "While the `for` loop above works fine, there is an alternative way to do this, using [**list comprehension**](https://neuraldatascience.io/3/for-loops.html#list-comprehension). Recall that list comprehensions are basically just a compact version of a `for` loop, but they have some advantages:\n",
    "- they are *more pythonic*: they only require one line of code, whereas the `for` loop above required two\n",
    "- they are *more efficient*: list comprehensions actually run faster. This may not be an issue in the small examples here, but can make a big difference when working with real, large data sets\n",
    "\n",
    "~~~python\n",
    "df_list = [pd.read_csv(f) for f in filenames]\n",
    "df_list\n",
    "~~~"
   ]
  },
  {
   "cell_type": "code",
   "execution_count": 17,
   "metadata": {},
   "outputs": [
    {
     "data": {
      "text/plain": [
       "[  participantID  trial        RT\n",
       " 0            s3      1  0.322099\n",
       " 1            s3      2  0.396106\n",
       " 2            s3      3  0.384297\n",
       " 3            s3      4  0.364524\n",
       " 4            s3      5  0.454075\n",
       " 5            s3      6  0.494156\n",
       " 6            s3      7  0.492787\n",
       " 7            s3      8  0.506836\n",
       " 8            s3      9  0.340722\n",
       " 9            s3     10  0.704491,\n",
       "   participantID  trial        RT\n",
       " 0            s1      1  0.508971\n",
       " 1            s1      2  0.389858\n",
       " 2            s1      3  0.404175\n",
       " 3            s1      4  0.269520\n",
       " 4            s1      5  0.437765\n",
       " 5            s1      6  0.368142\n",
       " 6            s1      7  0.400544\n",
       " 7            s1      8  0.335198\n",
       " 8            s1      9  0.341722\n",
       " 9            s1     10  0.439583,\n",
       "   participantID  trial        RT\n",
       " 0            s2      1  0.433094\n",
       " 1            s2      2  0.392526\n",
       " 2            s2      3  0.396831\n",
       " 3            s2      4  0.417988\n",
       " 4            s2      5  0.371810\n",
       " 5            s2      6  0.659228\n",
       " 6            s2      7  0.411051\n",
       " 7            s2      8  0.409580\n",
       " 8            s2      9  0.486828\n",
       " 9            s2     10  0.468912]"
      ]
     },
     "execution_count": 17,
     "metadata": {},
     "output_type": "execute_result"
    }
   ],
   "source": [
    "df_list = [pd.read_csv(f) for f in filenames]\n",
    "df_list"
   ]
  },
  {
   "cell_type": "markdown",
   "metadata": {},
   "source": [
    "## Combining DataFrames\n",
    "\n",
    "At this point, we've read each input file in and stored it as a DataFrame, but we have a list of three distinct DataFrames. In most cases, we'll want to combine these in some way. Having built our list of DataFrames through reading a set of files, we can combine them into a single DataFrame using the pandas `.concat()` method:\n",
    "\n",
    "~~~python\n",
    "df = pd.concat(df_list)\n",
    "\n"
   ]
  },
  {
   "cell_type": "code",
   "execution_count": 18,
   "metadata": {},
   "outputs": [],
   "source": [
    "df = pd.concat(df_list)"
   ]
  },
  {
   "cell_type": "markdown",
   "metadata": {},
   "source": [
    "Confirm this worked by viewing a random sample of rows\n",
    "~~~\n",
    "df.sample(8)\n",
    "~~~"
   ]
  },
  {
   "cell_type": "code",
   "execution_count": 19,
   "metadata": {},
   "outputs": [
    {
     "data": {
      "application/vnd.microsoft.datawrangler.viewer.v0+json": {
       "columns": [
        {
         "name": "index",
         "rawType": "int64",
         "type": "integer"
        },
        {
         "name": "participantID",
         "rawType": "object",
         "type": "string"
        },
        {
         "name": "trial",
         "rawType": "int64",
         "type": "integer"
        },
        {
         "name": "RT",
         "rawType": "float64",
         "type": "float"
        }
       ],
       "ref": "ad14fac4-db9a-457e-b2e0-fe3f8f7b65fe",
       "rows": [
        [
         "5",
         "s2",
         "6",
         "0.659228422"
        ],
        [
         "1",
         "s2",
         "2",
         "0.392526034"
        ],
        [
         "7",
         "s1",
         "8",
         "0.335198066"
        ],
        [
         "3",
         "s3",
         "4",
         "0.36452361"
        ],
        [
         "4",
         "s2",
         "5",
         "0.371810078"
        ],
        [
         "5",
         "s1",
         "6",
         "0.368141756"
        ],
        [
         "7",
         "s3",
         "8",
         "0.50683596"
        ],
        [
         "7",
         "s2",
         "8",
         "0.409580168"
        ]
       ],
       "shape": {
        "columns": 3,
        "rows": 8
       }
      },
      "text/html": [
       "<div>\n",
       "<style scoped>\n",
       "    .dataframe tbody tr th:only-of-type {\n",
       "        vertical-align: middle;\n",
       "    }\n",
       "\n",
       "    .dataframe tbody tr th {\n",
       "        vertical-align: top;\n",
       "    }\n",
       "\n",
       "    .dataframe thead th {\n",
       "        text-align: right;\n",
       "    }\n",
       "</style>\n",
       "<table border=\"1\" class=\"dataframe\">\n",
       "  <thead>\n",
       "    <tr style=\"text-align: right;\">\n",
       "      <th></th>\n",
       "      <th>participantID</th>\n",
       "      <th>trial</th>\n",
       "      <th>RT</th>\n",
       "    </tr>\n",
       "  </thead>\n",
       "  <tbody>\n",
       "    <tr>\n",
       "      <th>5</th>\n",
       "      <td>s2</td>\n",
       "      <td>6</td>\n",
       "      <td>0.659228</td>\n",
       "    </tr>\n",
       "    <tr>\n",
       "      <th>1</th>\n",
       "      <td>s2</td>\n",
       "      <td>2</td>\n",
       "      <td>0.392526</td>\n",
       "    </tr>\n",
       "    <tr>\n",
       "      <th>7</th>\n",
       "      <td>s1</td>\n",
       "      <td>8</td>\n",
       "      <td>0.335198</td>\n",
       "    </tr>\n",
       "    <tr>\n",
       "      <th>3</th>\n",
       "      <td>s3</td>\n",
       "      <td>4</td>\n",
       "      <td>0.364524</td>\n",
       "    </tr>\n",
       "    <tr>\n",
       "      <th>4</th>\n",
       "      <td>s2</td>\n",
       "      <td>5</td>\n",
       "      <td>0.371810</td>\n",
       "    </tr>\n",
       "    <tr>\n",
       "      <th>5</th>\n",
       "      <td>s1</td>\n",
       "      <td>6</td>\n",
       "      <td>0.368142</td>\n",
       "    </tr>\n",
       "    <tr>\n",
       "      <th>7</th>\n",
       "      <td>s3</td>\n",
       "      <td>8</td>\n",
       "      <td>0.506836</td>\n",
       "    </tr>\n",
       "    <tr>\n",
       "      <th>7</th>\n",
       "      <td>s2</td>\n",
       "      <td>8</td>\n",
       "      <td>0.409580</td>\n",
       "    </tr>\n",
       "  </tbody>\n",
       "</table>\n",
       "</div>"
      ],
      "text/plain": [
       "  participantID  trial        RT\n",
       "5            s2      6  0.659228\n",
       "1            s2      2  0.392526\n",
       "7            s1      8  0.335198\n",
       "3            s3      4  0.364524\n",
       "4            s2      5  0.371810\n",
       "5            s1      6  0.368142\n",
       "7            s3      8  0.506836\n",
       "7            s2      8  0.409580"
      ]
     },
     "execution_count": 19,
     "metadata": {},
     "output_type": "execute_result"
    }
   ],
   "source": [
    "df.sample(8)"
   ]
  },
  {
   "cell_type": "markdown",
   "metadata": {},
   "source": [
    "## Setting the index column\n",
    "\n",
    "Recall that row labels in pands are called *indexes*. We can convert any column to an index using the `.set_index()` method. For this data, an appropriate index is the participant ID, which is in the column `Participant`. Note that we need to assign the result of the `.set_index()` operation back to `df` for the change to be stored:\n",
    "\n",
    "~~~python\n",
    "df = df.set_index('Participant')\n",
    "df.sample(8)\n",
    "~~~"
   ]
  },
  {
   "cell_type": "code",
   "execution_count": 21,
   "metadata": {},
   "outputs": [
    {
     "data": {
      "application/vnd.microsoft.datawrangler.viewer.v0+json": {
       "columns": [
        {
         "name": "participantID",
         "rawType": "object",
         "type": "string"
        },
        {
         "name": "trial",
         "rawType": "int64",
         "type": "integer"
        },
        {
         "name": "RT",
         "rawType": "float64",
         "type": "float"
        }
       ],
       "ref": "afb13f69-65ca-4d2f-b8e8-9fecaeda0c8d",
       "rows": [
        [
         "s1",
         "2",
         "0.389857974"
        ],
        [
         "s3",
         "10",
         "0.704491148"
        ],
        [
         "s1",
         "4",
         "0.269520309"
        ],
        [
         "s2",
         "5",
         "0.371810078"
        ],
        [
         "s2",
         "8",
         "0.409580168"
        ],
        [
         "s2",
         "7",
         "0.411051235"
        ],
        [
         "s3",
         "7",
         "0.492786617"
        ],
        [
         "s2",
         "3",
         "0.396830804"
        ]
       ],
       "shape": {
        "columns": 2,
        "rows": 8
       }
      },
      "text/html": [
       "<div>\n",
       "<style scoped>\n",
       "    .dataframe tbody tr th:only-of-type {\n",
       "        vertical-align: middle;\n",
       "    }\n",
       "\n",
       "    .dataframe tbody tr th {\n",
       "        vertical-align: top;\n",
       "    }\n",
       "\n",
       "    .dataframe thead th {\n",
       "        text-align: right;\n",
       "    }\n",
       "</style>\n",
       "<table border=\"1\" class=\"dataframe\">\n",
       "  <thead>\n",
       "    <tr style=\"text-align: right;\">\n",
       "      <th></th>\n",
       "      <th>trial</th>\n",
       "      <th>RT</th>\n",
       "    </tr>\n",
       "    <tr>\n",
       "      <th>participantID</th>\n",
       "      <th></th>\n",
       "      <th></th>\n",
       "    </tr>\n",
       "  </thead>\n",
       "  <tbody>\n",
       "    <tr>\n",
       "      <th>s1</th>\n",
       "      <td>2</td>\n",
       "      <td>0.389858</td>\n",
       "    </tr>\n",
       "    <tr>\n",
       "      <th>s3</th>\n",
       "      <td>10</td>\n",
       "      <td>0.704491</td>\n",
       "    </tr>\n",
       "    <tr>\n",
       "      <th>s1</th>\n",
       "      <td>4</td>\n",
       "      <td>0.269520</td>\n",
       "    </tr>\n",
       "    <tr>\n",
       "      <th>s2</th>\n",
       "      <td>5</td>\n",
       "      <td>0.371810</td>\n",
       "    </tr>\n",
       "    <tr>\n",
       "      <th>s2</th>\n",
       "      <td>8</td>\n",
       "      <td>0.409580</td>\n",
       "    </tr>\n",
       "    <tr>\n",
       "      <th>s2</th>\n",
       "      <td>7</td>\n",
       "      <td>0.411051</td>\n",
       "    </tr>\n",
       "    <tr>\n",
       "      <th>s3</th>\n",
       "      <td>7</td>\n",
       "      <td>0.492787</td>\n",
       "    </tr>\n",
       "    <tr>\n",
       "      <th>s2</th>\n",
       "      <td>3</td>\n",
       "      <td>0.396831</td>\n",
       "    </tr>\n",
       "  </tbody>\n",
       "</table>\n",
       "</div>"
      ],
      "text/plain": [
       "               trial        RT\n",
       "participantID                 \n",
       "s1                 2  0.389858\n",
       "s3                10  0.704491\n",
       "s1                 4  0.269520\n",
       "s2                 5  0.371810\n",
       "s2                 8  0.409580\n",
       "s2                 7  0.411051\n",
       "s3                 7  0.492787\n",
       "s2                 3  0.396831"
      ]
     },
     "execution_count": 21,
     "metadata": {},
     "output_type": "execute_result"
    }
   ],
   "source": [
    "df = df.set_index('participantID')\n",
    "df.sample(8)"
   ]
  },
  {
   "cell_type": "markdown",
   "metadata": {
    "jupyter": {
     "outputs_hidden": false
    },
    "tags": []
   },
   "source": [
    "---\n",
    "# Exercises\n",
    "## Determining Matches\n",
    "\n",
    "Which of these files is *not* matched by the expression `glob.glob('data/*as*.csv')`?\n",
    "\n",
    "1. `data/gapminder_gdp_africa.csv`\n",
    "2. `data/gapminder_gdp_americas.csv`\n",
    "3. `data/gapminder_gdp_asia.csv`\n",
    "\n",
    "```{admonition} Click the button to reveal the answer\n",
    ":class: dropdown\n",
    "\n",
    "1 is not matched. The string `as` occurs in both americ**as** and **as**ia\n",
    "\n",
    "```"
   ]
  },
  {
   "cell_type": "markdown",
   "metadata": {
    "jupyter": {
     "outputs_hidden": false
    }
   },
   "source": [
    "## Globbing files\n",
    "\n",
    "Fill in the blanks so that the code below does the following: \n",
    "- Find all of the CSV files in the data folder that contain GDP data\n",
    "- Read these files in using a `for` loop\n",
    "- Concatenate the data files into a single pandas DataFrame\n",
    "- Print out the first 10 lines of the final combined DataFrame\n",
    "\n",
    "*Note* that not all the Gapminder data files contain GDP data, but the file names will indicate which ones do. "
   ]
  },
  {
   "cell_type": "code",
   "execution_count": 24,
   "metadata": {},
   "outputs": [
    {
     "data": {
      "text/plain": [
       "['data/gapminder_gdp_asia.csv',\n",
       " 'data/gapminder_gdp_americas.csv',\n",
       " 'data/gapminder_gdp_oceania.csv',\n",
       " 'data/gapminder_gdp_europe.csv',\n",
       " 'data/gapminder_gdp_africa.csv']"
      ]
     },
     "execution_count": 24,
     "metadata": {},
     "output_type": "execute_result"
    }
   ],
   "source": [
    "import glob\n",
    "import pandas as pd\n",
    "\n",
    "glob.glob('data/gapminder_gdp*.csv')"
   ]
  },
  {
   "cell_type": "code",
   "execution_count": 25,
   "metadata": {},
   "outputs": [
    {
     "data": {
      "application/vnd.microsoft.datawrangler.viewer.v0+json": {
       "columns": [
        {
         "name": "index",
         "rawType": "int64",
         "type": "integer"
        },
        {
         "name": "participantID",
         "rawType": "object",
         "type": "string"
        },
        {
         "name": "trial",
         "rawType": "int64",
         "type": "integer"
        },
        {
         "name": "RT",
         "rawType": "float64",
         "type": "float"
        }
       ],
       "ref": "901d4617-dabd-401b-9cfc-49d7b2879fac",
       "rows": [
        [
         "8",
         "s3",
         "9",
         "0.340722383"
        ],
        [
         "2",
         "s3",
         "3",
         "0.38429683"
        ],
        [
         "3",
         "s2",
         "4",
         "0.417987737"
        ],
        [
         "9",
         "s2",
         "10",
         "0.468912134"
        ],
        [
         "2",
         "s1",
         "3",
         "0.404175466"
        ],
        [
         "8",
         "s2",
         "9",
         "0.486828076"
        ],
        [
         "4",
         "s3",
         "5",
         "0.45407516"
        ],
        [
         "6",
         "s3",
         "7",
         "0.492786617"
        ],
        [
         "0",
         "s1",
         "1",
         "0.508971072"
        ],
        [
         "5",
         "s1",
         "6",
         "0.368141756"
        ]
       ],
       "shape": {
        "columns": 3,
        "rows": 10
       }
      },
      "text/html": [
       "<div>\n",
       "<style scoped>\n",
       "    .dataframe tbody tr th:only-of-type {\n",
       "        vertical-align: middle;\n",
       "    }\n",
       "\n",
       "    .dataframe tbody tr th {\n",
       "        vertical-align: top;\n",
       "    }\n",
       "\n",
       "    .dataframe thead th {\n",
       "        text-align: right;\n",
       "    }\n",
       "</style>\n",
       "<table border=\"1\" class=\"dataframe\">\n",
       "  <thead>\n",
       "    <tr style=\"text-align: right;\">\n",
       "      <th></th>\n",
       "      <th>participantID</th>\n",
       "      <th>trial</th>\n",
       "      <th>RT</th>\n",
       "    </tr>\n",
       "  </thead>\n",
       "  <tbody>\n",
       "    <tr>\n",
       "      <th>8</th>\n",
       "      <td>s3</td>\n",
       "      <td>9</td>\n",
       "      <td>0.340722</td>\n",
       "    </tr>\n",
       "    <tr>\n",
       "      <th>2</th>\n",
       "      <td>s3</td>\n",
       "      <td>3</td>\n",
       "      <td>0.384297</td>\n",
       "    </tr>\n",
       "    <tr>\n",
       "      <th>3</th>\n",
       "      <td>s2</td>\n",
       "      <td>4</td>\n",
       "      <td>0.417988</td>\n",
       "    </tr>\n",
       "    <tr>\n",
       "      <th>9</th>\n",
       "      <td>s2</td>\n",
       "      <td>10</td>\n",
       "      <td>0.468912</td>\n",
       "    </tr>\n",
       "    <tr>\n",
       "      <th>2</th>\n",
       "      <td>s1</td>\n",
       "      <td>3</td>\n",
       "      <td>0.404175</td>\n",
       "    </tr>\n",
       "    <tr>\n",
       "      <th>8</th>\n",
       "      <td>s2</td>\n",
       "      <td>9</td>\n",
       "      <td>0.486828</td>\n",
       "    </tr>\n",
       "    <tr>\n",
       "      <th>4</th>\n",
       "      <td>s3</td>\n",
       "      <td>5</td>\n",
       "      <td>0.454075</td>\n",
       "    </tr>\n",
       "    <tr>\n",
       "      <th>6</th>\n",
       "      <td>s3</td>\n",
       "      <td>7</td>\n",
       "      <td>0.492787</td>\n",
       "    </tr>\n",
       "    <tr>\n",
       "      <th>0</th>\n",
       "      <td>s1</td>\n",
       "      <td>1</td>\n",
       "      <td>0.508971</td>\n",
       "    </tr>\n",
       "    <tr>\n",
       "      <th>5</th>\n",
       "      <td>s1</td>\n",
       "      <td>6</td>\n",
       "      <td>0.368142</td>\n",
       "    </tr>\n",
       "  </tbody>\n",
       "</table>\n",
       "</div>"
      ],
      "text/plain": [
       "  participantID  trial        RT\n",
       "8            s3      9  0.340722\n",
       "2            s3      3  0.384297\n",
       "3            s2      4  0.417988\n",
       "9            s2     10  0.468912\n",
       "2            s1      3  0.404175\n",
       "8            s2      9  0.486828\n",
       "4            s3      5  0.454075\n",
       "6            s3      7  0.492787\n",
       "0            s1      1  0.508971\n",
       "5            s1      6  0.368142"
      ]
     },
     "execution_count": 25,
     "metadata": {},
     "output_type": "execute_result"
    }
   ],
   "source": [
    "import glob\n",
    "import pandas as pd\n",
    "\n",
    "data_files = glob.glob('data/gapminder_gdp*.csv')\n",
    "\n",
    "df_list = []\n",
    "\n",
    "for f in filenames:\n",
    "    df_list.append(pd.read_csv(f))\n",
    "    \n",
    "df = pd.concat(df_list)\n",
    "\n",
    "df.sample(10)"
   ]
  },
  {
   "cell_type": "markdown",
   "metadata": {
    "jupyter": {
     "outputs_hidden": false
    }
   },
   "source": [
    "```{admonition} Click the button to reveal!\n",
    ":class: dropdown\n",
    "\n",
    "~~~python\n",
    "import glob\n",
    "import pandas as pd\n",
    "\n",
    "data_files = glob.glob('data/*gdp*.csv')\n",
    "\n",
    "df_list = []\n",
    "\n",
    "for f in data_files:\n",
    "    df_list.append(pd.read_csv(f))\n",
    "    \n",
    "df = pd.concat(df_list)\n",
    "\n",
    "df.head(10)\n",
    "~~~\n",
    "```"
   ]
  },
  {
   "cell_type": "markdown",
   "metadata": {},
   "source": [
    "### List comprehension\n",
    "\n",
    "Now rewrite the code above to use list comprehension rather than a `for` loop, and only *two* lines of code total (excluding the `import` commands and viewing the first 10 lines of the result). "
   ]
  },
  {
   "cell_type": "code",
   "execution_count": 30,
   "metadata": {},
   "outputs": [
    {
     "data": {
      "application/vnd.microsoft.datawrangler.viewer.v0+json": {
       "columns": [
        {
         "name": "index",
         "rawType": "int64",
         "type": "integer"
        },
        {
         "name": "country",
         "rawType": "object",
         "type": "string"
        },
        {
         "name": "gdpPercap_1952",
         "rawType": "float64",
         "type": "float"
        },
        {
         "name": "gdpPercap_1957",
         "rawType": "float64",
         "type": "float"
        },
        {
         "name": "gdpPercap_1962",
         "rawType": "float64",
         "type": "float"
        },
        {
         "name": "gdpPercap_1967",
         "rawType": "float64",
         "type": "float"
        },
        {
         "name": "gdpPercap_1972",
         "rawType": "float64",
         "type": "float"
        },
        {
         "name": "gdpPercap_1977",
         "rawType": "float64",
         "type": "float"
        },
        {
         "name": "gdpPercap_1982",
         "rawType": "float64",
         "type": "float"
        },
        {
         "name": "gdpPercap_1987",
         "rawType": "float64",
         "type": "float"
        },
        {
         "name": "gdpPercap_1992",
         "rawType": "float64",
         "type": "float"
        },
        {
         "name": "gdpPercap_1997",
         "rawType": "float64",
         "type": "float"
        },
        {
         "name": "gdpPercap_2002",
         "rawType": "float64",
         "type": "float"
        },
        {
         "name": "gdpPercap_2007",
         "rawType": "float64",
         "type": "float"
        },
        {
         "name": "continent",
         "rawType": "object",
         "type": "unknown"
        }
       ],
       "ref": "26ec40a4-3435-485e-bb3f-1808631dbf74",
       "rows": [
        [
         "0",
         "Afghanistan",
         "779.4453145",
         "820.8530296",
         "853.10071",
         "836.1971382",
         "739.9811058",
         "786.11336",
         "978.0114388",
         "852.3959448",
         "649.3413952",
         "635.341351",
         "726.7340548",
         "974.5803384",
         null
        ],
        [
         "1",
         "Bahrain",
         "9867.084765",
         "11635.79945",
         "12753.27514",
         "14804.6727",
         "18268.65839",
         "19340.10196",
         "19211.14731",
         "18524.02406",
         "19035.57917",
         "20292.01679",
         "23403.55927",
         "29796.04834",
         null
        ],
        [
         "2",
         "Bangladesh",
         "684.2441716",
         "661.6374577",
         "686.3415538",
         "721.1860862",
         "630.2336265",
         "659.8772322",
         "676.9818656",
         "751.9794035",
         "837.8101643",
         "972.7700352",
         "1136.39043",
         "1391.253792",
         null
        ],
        [
         "3",
         "Cambodia",
         "368.4692856",
         "434.0383364",
         "496.9136476",
         "523.4323142",
         "421.6240257",
         "524.9721832",
         "624.4754784",
         "683.8955732",
         "682.3031755",
         "734.28517",
         "896.2260153",
         "1713.778686",
         null
        ],
        [
         "4",
         "China",
         "400.4486107",
         "575.9870009",
         "487.6740183",
         "612.7056934",
         "676.9000921",
         "741.2374699",
         "962.4213805",
         "1378.904018",
         "1655.784158",
         "2289.234136",
         "3119.280896",
         "4959.114854",
         null
        ],
        [
         "5",
         "Hong Kong China",
         "3054.421209",
         "3629.076457",
         "4692.648272",
         "6197.962814",
         "8315.928145",
         "11186.14125",
         "14560.53051",
         "20038.47269",
         "24757.60301",
         "28377.63219",
         "30209.01516",
         "39724.97867",
         null
        ],
        [
         "6",
         "India",
         "546.5657493",
         "590.061996",
         "658.3471509",
         "700.7706107",
         "724.032527",
         "813.337323",
         "855.7235377",
         "976.5126756",
         "1164.406809",
         "1458.817442",
         "1746.769454",
         "2452.210407",
         null
        ],
        [
         "7",
         "Indonesia",
         "749.6816546",
         "858.9002707",
         "849.2897701",
         "762.4317721",
         "1111.107907",
         "1382.702056",
         "1516.872988",
         "1748.356961",
         "2383.140898",
         "3119.335603",
         "2873.91287",
         "3540.651564",
         null
        ],
        [
         "8",
         "Iran",
         "3035.326002",
         "3290.257643",
         "4187.329802",
         "5906.731805",
         "9613.818607",
         "11888.59508",
         "7608.334602",
         "6642.881371",
         "7235.653188",
         "8263.590301",
         "9240.761975",
         "11605.71449",
         null
        ],
        [
         "9",
         "Iraq",
         "4129.766056",
         "6229.333562",
         "8341.737815",
         "8931.459811",
         "9576.037596",
         "14688.23507",
         "14517.90711",
         "11643.57268",
         "3745.640687",
         "3076.239795",
         "4390.717312",
         "4471.061906",
         null
        ]
       ],
       "shape": {
        "columns": 14,
        "rows": 10
       }
      },
      "text/html": [
       "<div>\n",
       "<style scoped>\n",
       "    .dataframe tbody tr th:only-of-type {\n",
       "        vertical-align: middle;\n",
       "    }\n",
       "\n",
       "    .dataframe tbody tr th {\n",
       "        vertical-align: top;\n",
       "    }\n",
       "\n",
       "    .dataframe thead th {\n",
       "        text-align: right;\n",
       "    }\n",
       "</style>\n",
       "<table border=\"1\" class=\"dataframe\">\n",
       "  <thead>\n",
       "    <tr style=\"text-align: right;\">\n",
       "      <th></th>\n",
       "      <th>country</th>\n",
       "      <th>gdpPercap_1952</th>\n",
       "      <th>gdpPercap_1957</th>\n",
       "      <th>gdpPercap_1962</th>\n",
       "      <th>gdpPercap_1967</th>\n",
       "      <th>gdpPercap_1972</th>\n",
       "      <th>gdpPercap_1977</th>\n",
       "      <th>gdpPercap_1982</th>\n",
       "      <th>gdpPercap_1987</th>\n",
       "      <th>gdpPercap_1992</th>\n",
       "      <th>gdpPercap_1997</th>\n",
       "      <th>gdpPercap_2002</th>\n",
       "      <th>gdpPercap_2007</th>\n",
       "      <th>continent</th>\n",
       "    </tr>\n",
       "  </thead>\n",
       "  <tbody>\n",
       "    <tr>\n",
       "      <th>0</th>\n",
       "      <td>Afghanistan</td>\n",
       "      <td>779.445314</td>\n",
       "      <td>820.853030</td>\n",
       "      <td>853.100710</td>\n",
       "      <td>836.197138</td>\n",
       "      <td>739.981106</td>\n",
       "      <td>786.113360</td>\n",
       "      <td>978.011439</td>\n",
       "      <td>852.395945</td>\n",
       "      <td>649.341395</td>\n",
       "      <td>635.341351</td>\n",
       "      <td>726.734055</td>\n",
       "      <td>974.580338</td>\n",
       "      <td>NaN</td>\n",
       "    </tr>\n",
       "    <tr>\n",
       "      <th>1</th>\n",
       "      <td>Bahrain</td>\n",
       "      <td>9867.084765</td>\n",
       "      <td>11635.799450</td>\n",
       "      <td>12753.275140</td>\n",
       "      <td>14804.672700</td>\n",
       "      <td>18268.658390</td>\n",
       "      <td>19340.101960</td>\n",
       "      <td>19211.147310</td>\n",
       "      <td>18524.024060</td>\n",
       "      <td>19035.579170</td>\n",
       "      <td>20292.016790</td>\n",
       "      <td>23403.559270</td>\n",
       "      <td>29796.048340</td>\n",
       "      <td>NaN</td>\n",
       "    </tr>\n",
       "    <tr>\n",
       "      <th>2</th>\n",
       "      <td>Bangladesh</td>\n",
       "      <td>684.244172</td>\n",
       "      <td>661.637458</td>\n",
       "      <td>686.341554</td>\n",
       "      <td>721.186086</td>\n",
       "      <td>630.233627</td>\n",
       "      <td>659.877232</td>\n",
       "      <td>676.981866</td>\n",
       "      <td>751.979403</td>\n",
       "      <td>837.810164</td>\n",
       "      <td>972.770035</td>\n",
       "      <td>1136.390430</td>\n",
       "      <td>1391.253792</td>\n",
       "      <td>NaN</td>\n",
       "    </tr>\n",
       "    <tr>\n",
       "      <th>3</th>\n",
       "      <td>Cambodia</td>\n",
       "      <td>368.469286</td>\n",
       "      <td>434.038336</td>\n",
       "      <td>496.913648</td>\n",
       "      <td>523.432314</td>\n",
       "      <td>421.624026</td>\n",
       "      <td>524.972183</td>\n",
       "      <td>624.475478</td>\n",
       "      <td>683.895573</td>\n",
       "      <td>682.303175</td>\n",
       "      <td>734.285170</td>\n",
       "      <td>896.226015</td>\n",
       "      <td>1713.778686</td>\n",
       "      <td>NaN</td>\n",
       "    </tr>\n",
       "    <tr>\n",
       "      <th>4</th>\n",
       "      <td>China</td>\n",
       "      <td>400.448611</td>\n",
       "      <td>575.987001</td>\n",
       "      <td>487.674018</td>\n",
       "      <td>612.705693</td>\n",
       "      <td>676.900092</td>\n",
       "      <td>741.237470</td>\n",
       "      <td>962.421381</td>\n",
       "      <td>1378.904018</td>\n",
       "      <td>1655.784158</td>\n",
       "      <td>2289.234136</td>\n",
       "      <td>3119.280896</td>\n",
       "      <td>4959.114854</td>\n",
       "      <td>NaN</td>\n",
       "    </tr>\n",
       "    <tr>\n",
       "      <th>5</th>\n",
       "      <td>Hong Kong China</td>\n",
       "      <td>3054.421209</td>\n",
       "      <td>3629.076457</td>\n",
       "      <td>4692.648272</td>\n",
       "      <td>6197.962814</td>\n",
       "      <td>8315.928145</td>\n",
       "      <td>11186.141250</td>\n",
       "      <td>14560.530510</td>\n",
       "      <td>20038.472690</td>\n",
       "      <td>24757.603010</td>\n",
       "      <td>28377.632190</td>\n",
       "      <td>30209.015160</td>\n",
       "      <td>39724.978670</td>\n",
       "      <td>NaN</td>\n",
       "    </tr>\n",
       "    <tr>\n",
       "      <th>6</th>\n",
       "      <td>India</td>\n",
       "      <td>546.565749</td>\n",
       "      <td>590.061996</td>\n",
       "      <td>658.347151</td>\n",
       "      <td>700.770611</td>\n",
       "      <td>724.032527</td>\n",
       "      <td>813.337323</td>\n",
       "      <td>855.723538</td>\n",
       "      <td>976.512676</td>\n",
       "      <td>1164.406809</td>\n",
       "      <td>1458.817442</td>\n",
       "      <td>1746.769454</td>\n",
       "      <td>2452.210407</td>\n",
       "      <td>NaN</td>\n",
       "    </tr>\n",
       "    <tr>\n",
       "      <th>7</th>\n",
       "      <td>Indonesia</td>\n",
       "      <td>749.681655</td>\n",
       "      <td>858.900271</td>\n",
       "      <td>849.289770</td>\n",
       "      <td>762.431772</td>\n",
       "      <td>1111.107907</td>\n",
       "      <td>1382.702056</td>\n",
       "      <td>1516.872988</td>\n",
       "      <td>1748.356961</td>\n",
       "      <td>2383.140898</td>\n",
       "      <td>3119.335603</td>\n",
       "      <td>2873.912870</td>\n",
       "      <td>3540.651564</td>\n",
       "      <td>NaN</td>\n",
       "    </tr>\n",
       "    <tr>\n",
       "      <th>8</th>\n",
       "      <td>Iran</td>\n",
       "      <td>3035.326002</td>\n",
       "      <td>3290.257643</td>\n",
       "      <td>4187.329802</td>\n",
       "      <td>5906.731805</td>\n",
       "      <td>9613.818607</td>\n",
       "      <td>11888.595080</td>\n",
       "      <td>7608.334602</td>\n",
       "      <td>6642.881371</td>\n",
       "      <td>7235.653188</td>\n",
       "      <td>8263.590301</td>\n",
       "      <td>9240.761975</td>\n",
       "      <td>11605.714490</td>\n",
       "      <td>NaN</td>\n",
       "    </tr>\n",
       "    <tr>\n",
       "      <th>9</th>\n",
       "      <td>Iraq</td>\n",
       "      <td>4129.766056</td>\n",
       "      <td>6229.333562</td>\n",
       "      <td>8341.737815</td>\n",
       "      <td>8931.459811</td>\n",
       "      <td>9576.037596</td>\n",
       "      <td>14688.235070</td>\n",
       "      <td>14517.907110</td>\n",
       "      <td>11643.572680</td>\n",
       "      <td>3745.640687</td>\n",
       "      <td>3076.239795</td>\n",
       "      <td>4390.717312</td>\n",
       "      <td>4471.061906</td>\n",
       "      <td>NaN</td>\n",
       "    </tr>\n",
       "  </tbody>\n",
       "</table>\n",
       "</div>"
      ],
      "text/plain": [
       "           country  gdpPercap_1952  gdpPercap_1957  gdpPercap_1962  \\\n",
       "0      Afghanistan      779.445314      820.853030      853.100710   \n",
       "1          Bahrain     9867.084765    11635.799450    12753.275140   \n",
       "2       Bangladesh      684.244172      661.637458      686.341554   \n",
       "3         Cambodia      368.469286      434.038336      496.913648   \n",
       "4            China      400.448611      575.987001      487.674018   \n",
       "5  Hong Kong China     3054.421209     3629.076457     4692.648272   \n",
       "6            India      546.565749      590.061996      658.347151   \n",
       "7        Indonesia      749.681655      858.900271      849.289770   \n",
       "8             Iran     3035.326002     3290.257643     4187.329802   \n",
       "9             Iraq     4129.766056     6229.333562     8341.737815   \n",
       "\n",
       "   gdpPercap_1967  gdpPercap_1972  gdpPercap_1977  gdpPercap_1982  \\\n",
       "0      836.197138      739.981106      786.113360      978.011439   \n",
       "1    14804.672700    18268.658390    19340.101960    19211.147310   \n",
       "2      721.186086      630.233627      659.877232      676.981866   \n",
       "3      523.432314      421.624026      524.972183      624.475478   \n",
       "4      612.705693      676.900092      741.237470      962.421381   \n",
       "5     6197.962814     8315.928145    11186.141250    14560.530510   \n",
       "6      700.770611      724.032527      813.337323      855.723538   \n",
       "7      762.431772     1111.107907     1382.702056     1516.872988   \n",
       "8     5906.731805     9613.818607    11888.595080     7608.334602   \n",
       "9     8931.459811     9576.037596    14688.235070    14517.907110   \n",
       "\n",
       "   gdpPercap_1987  gdpPercap_1992  gdpPercap_1997  gdpPercap_2002  \\\n",
       "0      852.395945      649.341395      635.341351      726.734055   \n",
       "1    18524.024060    19035.579170    20292.016790    23403.559270   \n",
       "2      751.979403      837.810164      972.770035     1136.390430   \n",
       "3      683.895573      682.303175      734.285170      896.226015   \n",
       "4     1378.904018     1655.784158     2289.234136     3119.280896   \n",
       "5    20038.472690    24757.603010    28377.632190    30209.015160   \n",
       "6      976.512676     1164.406809     1458.817442     1746.769454   \n",
       "7     1748.356961     2383.140898     3119.335603     2873.912870   \n",
       "8     6642.881371     7235.653188     8263.590301     9240.761975   \n",
       "9    11643.572680     3745.640687     3076.239795     4390.717312   \n",
       "\n",
       "   gdpPercap_2007 continent  \n",
       "0      974.580338       NaN  \n",
       "1    29796.048340       NaN  \n",
       "2     1391.253792       NaN  \n",
       "3     1713.778686       NaN  \n",
       "4     4959.114854       NaN  \n",
       "5    39724.978670       NaN  \n",
       "6     2452.210407       NaN  \n",
       "7     3540.651564       NaN  \n",
       "8    11605.714490       NaN  \n",
       "9     4471.061906       NaN  "
      ]
     },
     "execution_count": 30,
     "metadata": {},
     "output_type": "execute_result"
    }
   ],
   "source": [
    "df_list = (pd.read_csv(f) for f in glob.glob('data/gapminder_gdp*.csv'))\n",
    "df = pd.concat(df_list)\n",
    "df.head(10)"
   ]
  },
  {
   "cell_type": "markdown",
   "metadata": {},
   "source": [
    "For an even bigger challenge, see if you can reduce the code to a single line!"
   ]
  },
  {
   "cell_type": "code",
   "execution_count": 32,
   "metadata": {},
   "outputs": [
    {
     "data": {
      "application/vnd.microsoft.datawrangler.viewer.v0+json": {
       "columns": [
        {
         "name": "index",
         "rawType": "int64",
         "type": "integer"
        },
        {
         "name": "country",
         "rawType": "object",
         "type": "string"
        },
        {
         "name": "gdpPercap_1952",
         "rawType": "float64",
         "type": "float"
        },
        {
         "name": "gdpPercap_1957",
         "rawType": "float64",
         "type": "float"
        },
        {
         "name": "gdpPercap_1962",
         "rawType": "float64",
         "type": "float"
        },
        {
         "name": "gdpPercap_1967",
         "rawType": "float64",
         "type": "float"
        },
        {
         "name": "gdpPercap_1972",
         "rawType": "float64",
         "type": "float"
        },
        {
         "name": "gdpPercap_1977",
         "rawType": "float64",
         "type": "float"
        },
        {
         "name": "gdpPercap_1982",
         "rawType": "float64",
         "type": "float"
        },
        {
         "name": "gdpPercap_1987",
         "rawType": "float64",
         "type": "float"
        },
        {
         "name": "gdpPercap_1992",
         "rawType": "float64",
         "type": "float"
        },
        {
         "name": "gdpPercap_1997",
         "rawType": "float64",
         "type": "float"
        },
        {
         "name": "gdpPercap_2002",
         "rawType": "float64",
         "type": "float"
        },
        {
         "name": "gdpPercap_2007",
         "rawType": "float64",
         "type": "float"
        },
        {
         "name": "continent",
         "rawType": "object",
         "type": "unknown"
        }
       ],
       "ref": "ac598b19-86db-43d2-b02b-07702345e3df",
       "rows": [
        [
         "0",
         "Afghanistan",
         "779.4453145",
         "820.8530296",
         "853.10071",
         "836.1971382",
         "739.9811058",
         "786.11336",
         "978.0114388",
         "852.3959448",
         "649.3413952",
         "635.341351",
         "726.7340548",
         "974.5803384",
         null
        ],
        [
         "1",
         "Bahrain",
         "9867.084765",
         "11635.79945",
         "12753.27514",
         "14804.6727",
         "18268.65839",
         "19340.10196",
         "19211.14731",
         "18524.02406",
         "19035.57917",
         "20292.01679",
         "23403.55927",
         "29796.04834",
         null
        ],
        [
         "2",
         "Bangladesh",
         "684.2441716",
         "661.6374577",
         "686.3415538",
         "721.1860862",
         "630.2336265",
         "659.8772322",
         "676.9818656",
         "751.9794035",
         "837.8101643",
         "972.7700352",
         "1136.39043",
         "1391.253792",
         null
        ],
        [
         "3",
         "Cambodia",
         "368.4692856",
         "434.0383364",
         "496.9136476",
         "523.4323142",
         "421.6240257",
         "524.9721832",
         "624.4754784",
         "683.8955732",
         "682.3031755",
         "734.28517",
         "896.2260153",
         "1713.778686",
         null
        ],
        [
         "4",
         "China",
         "400.4486107",
         "575.9870009",
         "487.6740183",
         "612.7056934",
         "676.9000921",
         "741.2374699",
         "962.4213805",
         "1378.904018",
         "1655.784158",
         "2289.234136",
         "3119.280896",
         "4959.114854",
         null
        ],
        [
         "5",
         "Hong Kong China",
         "3054.421209",
         "3629.076457",
         "4692.648272",
         "6197.962814",
         "8315.928145",
         "11186.14125",
         "14560.53051",
         "20038.47269",
         "24757.60301",
         "28377.63219",
         "30209.01516",
         "39724.97867",
         null
        ],
        [
         "6",
         "India",
         "546.5657493",
         "590.061996",
         "658.3471509",
         "700.7706107",
         "724.032527",
         "813.337323",
         "855.7235377",
         "976.5126756",
         "1164.406809",
         "1458.817442",
         "1746.769454",
         "2452.210407",
         null
        ],
        [
         "7",
         "Indonesia",
         "749.6816546",
         "858.9002707",
         "849.2897701",
         "762.4317721",
         "1111.107907",
         "1382.702056",
         "1516.872988",
         "1748.356961",
         "2383.140898",
         "3119.335603",
         "2873.91287",
         "3540.651564",
         null
        ],
        [
         "8",
         "Iran",
         "3035.326002",
         "3290.257643",
         "4187.329802",
         "5906.731805",
         "9613.818607",
         "11888.59508",
         "7608.334602",
         "6642.881371",
         "7235.653188",
         "8263.590301",
         "9240.761975",
         "11605.71449",
         null
        ],
        [
         "9",
         "Iraq",
         "4129.766056",
         "6229.333562",
         "8341.737815",
         "8931.459811",
         "9576.037596",
         "14688.23507",
         "14517.90711",
         "11643.57268",
         "3745.640687",
         "3076.239795",
         "4390.717312",
         "4471.061906",
         null
        ]
       ],
       "shape": {
        "columns": 14,
        "rows": 10
       }
      },
      "text/html": [
       "<div>\n",
       "<style scoped>\n",
       "    .dataframe tbody tr th:only-of-type {\n",
       "        vertical-align: middle;\n",
       "    }\n",
       "\n",
       "    .dataframe tbody tr th {\n",
       "        vertical-align: top;\n",
       "    }\n",
       "\n",
       "    .dataframe thead th {\n",
       "        text-align: right;\n",
       "    }\n",
       "</style>\n",
       "<table border=\"1\" class=\"dataframe\">\n",
       "  <thead>\n",
       "    <tr style=\"text-align: right;\">\n",
       "      <th></th>\n",
       "      <th>country</th>\n",
       "      <th>gdpPercap_1952</th>\n",
       "      <th>gdpPercap_1957</th>\n",
       "      <th>gdpPercap_1962</th>\n",
       "      <th>gdpPercap_1967</th>\n",
       "      <th>gdpPercap_1972</th>\n",
       "      <th>gdpPercap_1977</th>\n",
       "      <th>gdpPercap_1982</th>\n",
       "      <th>gdpPercap_1987</th>\n",
       "      <th>gdpPercap_1992</th>\n",
       "      <th>gdpPercap_1997</th>\n",
       "      <th>gdpPercap_2002</th>\n",
       "      <th>gdpPercap_2007</th>\n",
       "      <th>continent</th>\n",
       "    </tr>\n",
       "  </thead>\n",
       "  <tbody>\n",
       "    <tr>\n",
       "      <th>0</th>\n",
       "      <td>Afghanistan</td>\n",
       "      <td>779.445314</td>\n",
       "      <td>820.853030</td>\n",
       "      <td>853.100710</td>\n",
       "      <td>836.197138</td>\n",
       "      <td>739.981106</td>\n",
       "      <td>786.113360</td>\n",
       "      <td>978.011439</td>\n",
       "      <td>852.395945</td>\n",
       "      <td>649.341395</td>\n",
       "      <td>635.341351</td>\n",
       "      <td>726.734055</td>\n",
       "      <td>974.580338</td>\n",
       "      <td>NaN</td>\n",
       "    </tr>\n",
       "    <tr>\n",
       "      <th>1</th>\n",
       "      <td>Bahrain</td>\n",
       "      <td>9867.084765</td>\n",
       "      <td>11635.799450</td>\n",
       "      <td>12753.275140</td>\n",
       "      <td>14804.672700</td>\n",
       "      <td>18268.658390</td>\n",
       "      <td>19340.101960</td>\n",
       "      <td>19211.147310</td>\n",
       "      <td>18524.024060</td>\n",
       "      <td>19035.579170</td>\n",
       "      <td>20292.016790</td>\n",
       "      <td>23403.559270</td>\n",
       "      <td>29796.048340</td>\n",
       "      <td>NaN</td>\n",
       "    </tr>\n",
       "    <tr>\n",
       "      <th>2</th>\n",
       "      <td>Bangladesh</td>\n",
       "      <td>684.244172</td>\n",
       "      <td>661.637458</td>\n",
       "      <td>686.341554</td>\n",
       "      <td>721.186086</td>\n",
       "      <td>630.233627</td>\n",
       "      <td>659.877232</td>\n",
       "      <td>676.981866</td>\n",
       "      <td>751.979403</td>\n",
       "      <td>837.810164</td>\n",
       "      <td>972.770035</td>\n",
       "      <td>1136.390430</td>\n",
       "      <td>1391.253792</td>\n",
       "      <td>NaN</td>\n",
       "    </tr>\n",
       "    <tr>\n",
       "      <th>3</th>\n",
       "      <td>Cambodia</td>\n",
       "      <td>368.469286</td>\n",
       "      <td>434.038336</td>\n",
       "      <td>496.913648</td>\n",
       "      <td>523.432314</td>\n",
       "      <td>421.624026</td>\n",
       "      <td>524.972183</td>\n",
       "      <td>624.475478</td>\n",
       "      <td>683.895573</td>\n",
       "      <td>682.303175</td>\n",
       "      <td>734.285170</td>\n",
       "      <td>896.226015</td>\n",
       "      <td>1713.778686</td>\n",
       "      <td>NaN</td>\n",
       "    </tr>\n",
       "    <tr>\n",
       "      <th>4</th>\n",
       "      <td>China</td>\n",
       "      <td>400.448611</td>\n",
       "      <td>575.987001</td>\n",
       "      <td>487.674018</td>\n",
       "      <td>612.705693</td>\n",
       "      <td>676.900092</td>\n",
       "      <td>741.237470</td>\n",
       "      <td>962.421381</td>\n",
       "      <td>1378.904018</td>\n",
       "      <td>1655.784158</td>\n",
       "      <td>2289.234136</td>\n",
       "      <td>3119.280896</td>\n",
       "      <td>4959.114854</td>\n",
       "      <td>NaN</td>\n",
       "    </tr>\n",
       "    <tr>\n",
       "      <th>5</th>\n",
       "      <td>Hong Kong China</td>\n",
       "      <td>3054.421209</td>\n",
       "      <td>3629.076457</td>\n",
       "      <td>4692.648272</td>\n",
       "      <td>6197.962814</td>\n",
       "      <td>8315.928145</td>\n",
       "      <td>11186.141250</td>\n",
       "      <td>14560.530510</td>\n",
       "      <td>20038.472690</td>\n",
       "      <td>24757.603010</td>\n",
       "      <td>28377.632190</td>\n",
       "      <td>30209.015160</td>\n",
       "      <td>39724.978670</td>\n",
       "      <td>NaN</td>\n",
       "    </tr>\n",
       "    <tr>\n",
       "      <th>6</th>\n",
       "      <td>India</td>\n",
       "      <td>546.565749</td>\n",
       "      <td>590.061996</td>\n",
       "      <td>658.347151</td>\n",
       "      <td>700.770611</td>\n",
       "      <td>724.032527</td>\n",
       "      <td>813.337323</td>\n",
       "      <td>855.723538</td>\n",
       "      <td>976.512676</td>\n",
       "      <td>1164.406809</td>\n",
       "      <td>1458.817442</td>\n",
       "      <td>1746.769454</td>\n",
       "      <td>2452.210407</td>\n",
       "      <td>NaN</td>\n",
       "    </tr>\n",
       "    <tr>\n",
       "      <th>7</th>\n",
       "      <td>Indonesia</td>\n",
       "      <td>749.681655</td>\n",
       "      <td>858.900271</td>\n",
       "      <td>849.289770</td>\n",
       "      <td>762.431772</td>\n",
       "      <td>1111.107907</td>\n",
       "      <td>1382.702056</td>\n",
       "      <td>1516.872988</td>\n",
       "      <td>1748.356961</td>\n",
       "      <td>2383.140898</td>\n",
       "      <td>3119.335603</td>\n",
       "      <td>2873.912870</td>\n",
       "      <td>3540.651564</td>\n",
       "      <td>NaN</td>\n",
       "    </tr>\n",
       "    <tr>\n",
       "      <th>8</th>\n",
       "      <td>Iran</td>\n",
       "      <td>3035.326002</td>\n",
       "      <td>3290.257643</td>\n",
       "      <td>4187.329802</td>\n",
       "      <td>5906.731805</td>\n",
       "      <td>9613.818607</td>\n",
       "      <td>11888.595080</td>\n",
       "      <td>7608.334602</td>\n",
       "      <td>6642.881371</td>\n",
       "      <td>7235.653188</td>\n",
       "      <td>8263.590301</td>\n",
       "      <td>9240.761975</td>\n",
       "      <td>11605.714490</td>\n",
       "      <td>NaN</td>\n",
       "    </tr>\n",
       "    <tr>\n",
       "      <th>9</th>\n",
       "      <td>Iraq</td>\n",
       "      <td>4129.766056</td>\n",
       "      <td>6229.333562</td>\n",
       "      <td>8341.737815</td>\n",
       "      <td>8931.459811</td>\n",
       "      <td>9576.037596</td>\n",
       "      <td>14688.235070</td>\n",
       "      <td>14517.907110</td>\n",
       "      <td>11643.572680</td>\n",
       "      <td>3745.640687</td>\n",
       "      <td>3076.239795</td>\n",
       "      <td>4390.717312</td>\n",
       "      <td>4471.061906</td>\n",
       "      <td>NaN</td>\n",
       "    </tr>\n",
       "  </tbody>\n",
       "</table>\n",
       "</div>"
      ],
      "text/plain": [
       "           country  gdpPercap_1952  gdpPercap_1957  gdpPercap_1962  \\\n",
       "0      Afghanistan      779.445314      820.853030      853.100710   \n",
       "1          Bahrain     9867.084765    11635.799450    12753.275140   \n",
       "2       Bangladesh      684.244172      661.637458      686.341554   \n",
       "3         Cambodia      368.469286      434.038336      496.913648   \n",
       "4            China      400.448611      575.987001      487.674018   \n",
       "5  Hong Kong China     3054.421209     3629.076457     4692.648272   \n",
       "6            India      546.565749      590.061996      658.347151   \n",
       "7        Indonesia      749.681655      858.900271      849.289770   \n",
       "8             Iran     3035.326002     3290.257643     4187.329802   \n",
       "9             Iraq     4129.766056     6229.333562     8341.737815   \n",
       "\n",
       "   gdpPercap_1967  gdpPercap_1972  gdpPercap_1977  gdpPercap_1982  \\\n",
       "0      836.197138      739.981106      786.113360      978.011439   \n",
       "1    14804.672700    18268.658390    19340.101960    19211.147310   \n",
       "2      721.186086      630.233627      659.877232      676.981866   \n",
       "3      523.432314      421.624026      524.972183      624.475478   \n",
       "4      612.705693      676.900092      741.237470      962.421381   \n",
       "5     6197.962814     8315.928145    11186.141250    14560.530510   \n",
       "6      700.770611      724.032527      813.337323      855.723538   \n",
       "7      762.431772     1111.107907     1382.702056     1516.872988   \n",
       "8     5906.731805     9613.818607    11888.595080     7608.334602   \n",
       "9     8931.459811     9576.037596    14688.235070    14517.907110   \n",
       "\n",
       "   gdpPercap_1987  gdpPercap_1992  gdpPercap_1997  gdpPercap_2002  \\\n",
       "0      852.395945      649.341395      635.341351      726.734055   \n",
       "1    18524.024060    19035.579170    20292.016790    23403.559270   \n",
       "2      751.979403      837.810164      972.770035     1136.390430   \n",
       "3      683.895573      682.303175      734.285170      896.226015   \n",
       "4     1378.904018     1655.784158     2289.234136     3119.280896   \n",
       "5    20038.472690    24757.603010    28377.632190    30209.015160   \n",
       "6      976.512676     1164.406809     1458.817442     1746.769454   \n",
       "7     1748.356961     2383.140898     3119.335603     2873.912870   \n",
       "8     6642.881371     7235.653188     8263.590301     9240.761975   \n",
       "9    11643.572680     3745.640687     3076.239795     4390.717312   \n",
       "\n",
       "   gdpPercap_2007 continent  \n",
       "0      974.580338       NaN  \n",
       "1    29796.048340       NaN  \n",
       "2     1391.253792       NaN  \n",
       "3     1713.778686       NaN  \n",
       "4     4959.114854       NaN  \n",
       "5    39724.978670       NaN  \n",
       "6     2452.210407       NaN  \n",
       "7     3540.651564       NaN  \n",
       "8    11605.714490       NaN  \n",
       "9     4471.061906       NaN  "
      ]
     },
     "execution_count": 32,
     "metadata": {},
     "output_type": "execute_result"
    }
   ],
   "source": [
    "df = pd.concat(pd.read_csv(f) for f in glob.glob('data/gapminder_gdp*.csv'))\n",
    "df.head(10)"
   ]
  },
  {
   "cell_type": "markdown",
   "metadata": {},
   "source": [
    "```{admonition} Click the button to reveal!\n",
    ":class: dropdown\n",
    "\n",
    "Done in two lines of code:\n",
    "~~~python\n",
    "df_list = [pd.read_csv(f) for f in glob.glob('data/*gdp*.csv')]\n",
    "    \n",
    "df = pd.concat(df_list)\n",
    "\n",
    "df.head(10)\n",
    "~~~\n",
    "\n",
    "Done in one line of code: \n",
    "\n",
    "~~~python\n",
    "df = pd.concat([pd.read_csv(f) for f in glob.glob('data/*gdp*.csv')])\n",
    "    \n",
    "df.head(10)\n",
    "~~~\n",
    "\n",
    "```"
   ]
  },
  {
   "cell_type": "markdown",
   "metadata": {
    "jupyter": {
     "outputs_hidden": false
    },
    "tags": []
   },
   "source": [
    "## Summary of Key Points:\n",
    "- Use a `for` loop to process files given a list of their names\n",
    "- Use `glob.glob` to find sets of files whose names match a pattern\n",
    "- List comprehension can replace a `for` loop, resulting in more compact and efficient code\n",
    "- Naming your files in a consistent manner is just as important in data science, as writing the code to read them\n",
    "- When you want to combine multiple files into one pandas DataFrame, read each one in to a list of DataFrames, then run `pd.concat()` only once"
   ]
  },
  {
   "cell_type": "markdown",
   "metadata": {},
   "source": [
    "---\n",
    "This lesson is adapted from the [Software Carpentry](https://software-carpentry.org/lessons/) [Plotting and Programming in Python](http://swcarpentry.github.io/python-novice-gapminder/) workshop. "
   ]
  }
 ],
 "metadata": {
  "kernelspec": {
   "display_name": "Python 3",
   "language": "python",
   "name": "python3"
  },
  "language_info": {
   "codemirror_mode": {
    "name": "ipython",
    "version": 3
   },
   "file_extension": ".py",
   "mimetype": "text/x-python",
   "name": "python",
   "nbconvert_exporter": "python",
   "pygments_lexer": "ipython3",
   "version": "3.12.1"
  },
  "nteract": {
   "version": "0.28.0"
  }
 },
 "nbformat": 4,
 "nbformat_minor": 4
}
